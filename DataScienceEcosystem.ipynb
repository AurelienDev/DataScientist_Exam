{
 "cells": [
  {
   "cell_type": "markdown",
   "id": "b6f8666b-674b-42c4-bc41-66639f1bbb59",
   "metadata": {},
   "source": [
    "# Data Science Tools and Ecosystem"
   ]
  },
  {
   "cell_type": "markdown",
   "id": "90b457d9-6318-46d8-9914-d3328d6a13a4",
   "metadata": {},
   "source": [
    " #### In this notebook, Data Science Tools and Ecosystem are summarized."
   ]
  },
  {
   "cell_type": "markdown",
   "id": "452cbd28-5d96-4bf2-a1ef-f2d58ebbfc95",
   "metadata": {},
   "source": [
    "##### **Objectives :**\n",
    "###### List of popular langages for Data Science :\n",
    "- Python\n",
    "- R\n",
    "- Julia\n",
    "- Java\n",
    "- Scala\n",
    "- C++"
   ]
  },
  {
   "cell_type": "markdown",
   "id": "aba45352-577a-40c5-b340-1717159651a5",
   "metadata": {},
   "source": [
    "##### Some of the popular languages that Data Scientists use are:"
   ]
  },
  {
   "cell_type": "markdown",
   "id": "5b8e5ff8-0964-42f5-a655-f87ef4f608f4",
   "metadata": {},
   "source": [
    "1. Python\n",
    "2. R\n",
    "3. Julia"
   ]
  },
  {
   "cell_type": "markdown",
   "id": "c0ebd0db-d006-4baf-a7f2-1b28bf7e5de2",
   "metadata": {},
   "source": [
    "###### Some of the commonly used libraries used by Data Scientists include:"
   ]
  },
  {
   "cell_type": "markdown",
   "id": "38416ba3-1bee-449c-9a2b-685be096ef05",
   "metadata": {},
   "source": [
    "###### For Scientifics Computing :\n",
    "1. Numpy\n",
    "2. Pandas\n",
    "\n",
    "###### For Data Vizualization :\n",
    "1. Matploblib\n",
    "2. Seaborn\n",
    "\n",
    "###### For Machine Learning :\n",
    "1. Scikit-learn\n",
    "2. Keras\n",
    "\n",
    "###### For Deeplearning :\n",
    "1. TensorFlow\n",
    "2. PyTorch"
   ]
  },
  {
   "cell_type": "markdown",
   "id": "75d114c2-5cf4-463d-b42a-c5e6144d985e",
   "metadata": {},
   "source": [
    "| Data Science Tools |\n",
    "|--------------------|\n",
    "|Python|\n",
    "|Jupyter Labs|\n",
    "|Jupyther Notebook|\n",
    "|R Studio|\n",
    "|GitHub|\n",
    "|Anaconda|"
   ]
  },
  {
   "cell_type": "markdown",
   "id": "4e4a713c-32fa-472e-8aa5-30c0a336c498",
   "metadata": {},
   "source": [
    "###### Below are a few examples of evaluating arithmetic expressions in Python"
   ]
  },
  {
   "cell_type": "code",
   "execution_count": 4,
   "id": "96851061-1ce6-4688-8a00-dd0f8bd3116a",
   "metadata": {},
   "outputs": [
    {
     "name": "stdout",
     "output_type": "stream",
     "text": [
      "6\n"
     ]
    }
   ],
   "source": [
    "a = 1\n",
    "b = 2\n",
    "c = 3\n",
    "\n",
    "d = (a*b*c)\n",
    "\n",
    "print(d)"
   ]
  },
  {
   "cell_type": "code",
   "execution_count": 5,
   "id": "3084c96c-37ae-4590-813f-b664f0df415e",
   "metadata": {},
   "outputs": [
    {
     "data": {
      "text/plain": [
       "17"
      ]
     },
     "execution_count": 5,
     "metadata": {},
     "output_type": "execute_result"
    }
   ],
   "source": [
    "# This a simple arithmetic expression to mutiply then add integers\n",
    "(3*4)+5"
   ]
  },
  {
   "cell_type": "code",
   "execution_count": 7,
   "id": "af841294-565f-4c05-bcc4-d717c29a9270",
   "metadata": {},
   "outputs": [
    {
     "name": "stdout",
     "output_type": "stream",
     "text": [
      "3.3333333333333335\n"
     ]
    }
   ],
   "source": [
    "# This will convert 200 minutes to hours by diving by 60\n",
    "hours = 200\n",
    "minuts = hours/60\n",
    "\n",
    "print(minuts)"
   ]
  },
  {
   "cell_type": "markdown",
   "id": "6e3ccf95-9242-4a58-94bd-1d5e34d6b800",
   "metadata": {},
   "source": [
    "## Author\n",
    "Aurelien Legendre"
   ]
  },
  {
   "cell_type": "code",
   "execution_count": null,
   "id": "068bc190-c183-473b-a226-5b84df3f3908",
   "metadata": {},
   "outputs": [],
   "source": []
  }
 ],
 "metadata": {
  "kernelspec": {
   "display_name": "Python 3 (ipykernel)",
   "language": "python",
   "name": "python3"
  },
  "language_info": {
   "codemirror_mode": {
    "name": "ipython",
    "version": 3
   },
   "file_extension": ".py",
   "mimetype": "text/x-python",
   "name": "python",
   "nbconvert_exporter": "python",
   "pygments_lexer": "ipython3",
   "version": "3.12.9"
  }
 },
 "nbformat": 4,
 "nbformat_minor": 5
}
